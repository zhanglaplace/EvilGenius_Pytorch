{
 "cells": [
  {
   "cell_type": "code",
   "execution_count": 1,
   "metadata": {
    "collapsed": true
   },
   "outputs": [],
   "source": [
    "import torch\n",
    "import torch.nn as nn\n",
    "import torch.nn.functional as F"
   ]
  },
  {
   "cell_type": "code",
   "execution_count": 5,
   "metadata": {},
   "outputs": [],
   "source": [
    "## 一般正常一层一层码: 需要继承nn.Module\n",
    "class SimpleNet(nn.Module):\n",
    "    def __init__(self,num_classes = 10):\n",
    "        super(SimpleNet,self).__init__()\n",
    "        self.num_class_ = num_classes\n",
    "        self.conv1 = nn.Conv2d(3,16,7)\n",
    "        self.bn1 = nn.BatchNorm2d(16)\n",
    "        self.conv2 = nn.Conv2d(16,64,3)\n",
    "        self.bn2 = nn.BatchNorm2d(64)\n",
    "        self.fc1 = nn.Linear(64,256)\n",
    "        self.fc2 = nn.Linear(256,num_classes)\n",
    "        \n",
    "    def forward(self,x):\n",
    "        out = F.relu(self.bn1(self.conv1(x)))\n",
    "        out = F.relu(self.bn2(self.conv2(out)))\n",
    "        out = F.relu(self.fc1(out))\n",
    "        out = self.fc2(out)"
   ]
  },
  {
   "cell_type": "code",
   "execution_count": 9,
   "metadata": {},
   "outputs": [],
   "source": [
    "## 2 利用pytorch的Sequential快速搭建网络\n",
    "class SimpleNet1(nn.Module):\n",
    "    def __init__(self,num_classes = 10):\n",
    "        super(SimpleNet1,self).__init__()\n",
    "        self.num_class_ = num_classes\n",
    "        self.layer1 = nn.Sequential(\n",
    "            nn.Conv2d(3,16,7),\n",
    "            nn.BatchNorm2d(16),\n",
    "            nn.ReLU(),\n",
    "            nn.Conv2d(16,64,3),\n",
    "            nn.Conv2d(16,64,3),\n",
    "            nn.ReLU()\n",
    "        )\n",
    "        self.fc1 = nn.Linear(64,256)\n",
    "        self.fc2 = nn.Linear(256,num_classes)\n",
    "        \n",
    "    def forward(self,x):\n",
    "        out = self.layer1(x)\n",
    "        out = F.relu(self.fc1(out))\n",
    "        out = self.fc2(out)"
   ]
  },
  {
   "cell_type": "code",
   "execution_count": 15,
   "metadata": {},
   "outputs": [],
   "source": [
    "## 3 利用pytorch的Sequential快速搭建网络 但是Sequential中包含层次的名字\n",
    "from collections import OrderedDict\n",
    "class SimpleNet2(nn.Module):\n",
    "    def __init__(self,num_classes = 10):\n",
    "        super(SimpleNet2,self).__init__()\n",
    "        self.num_class_ = num_classes\n",
    "        self.layer1 = nn.Sequential(OrderedDict([\n",
    "            ('conv1',nn.Conv2d(3,16,7)),\n",
    "            ('bn1',nn.BatchNorm2d(16)),\n",
    "            ('relu1',nn.ReLU()),\n",
    "            ('conv2',nn.Conv2d(16,64,3)),\n",
    "            ('bn2',nn.Conv2d(16,64,3)),\n",
    "            ('relu2',nn.ReLU())\n",
    "        ]))\n",
    "        self.fc1 = nn.Linear(64,256)\n",
    "        self.fc2 = nn.Linear(256,num_classes)\n",
    "        \n",
    "    def forward(self,x):\n",
    "        out = self.layer1(x)\n",
    "        out = F.relu(self.fc1(out))\n",
    "        out = self.fc2(out)"
   ]
  },
  {
   "cell_type": "code",
   "execution_count": 16,
   "metadata": {},
   "outputs": [],
   "source": [
    "net = SimpleNet()\n",
    "net1 = SimpleNet1()\n",
    "net2 = SimpleNet2()"
   ]
  },
  {
   "cell_type": "code",
   "execution_count": 31,
   "metadata": {},
   "outputs": [
    {
     "name": "stdout",
     "output_type": "stream",
     "text": [
      "conv1.weight torch.Size([16, 3, 7, 7])\n",
      "conv1.bias torch.Size([16])\n",
      "bn1.weight torch.Size([16])\n",
      "bn1.bias torch.Size([16])\n",
      "conv2.weight torch.Size([64, 16, 3, 3])\n",
      "conv2.bias torch.Size([64])\n",
      "bn2.weight torch.Size([64])\n",
      "bn2.bias torch.Size([64])\n",
      "fc1.weight torch.Size([256, 64])\n",
      "fc1.bias torch.Size([256])\n",
      "fc2.weight torch.Size([10, 256])\n",
      "fc2.bias torch.Size([10])\n"
     ]
    }
   ],
   "source": [
    "for name,param in net.named_parameters():\n",
    "    print(name,param.shape)"
   ]
  },
  {
   "cell_type": "code",
   "execution_count": 32,
   "metadata": {},
   "outputs": [
    {
     "name": "stdout",
     "output_type": "stream",
     "text": [
      "layer1.0.weight torch.Size([16, 3, 7, 7])\n",
      "layer1.0.bias torch.Size([16])\n",
      "layer1.1.weight torch.Size([16])\n",
      "layer1.1.bias torch.Size([16])\n",
      "layer1.3.weight torch.Size([64, 16, 3, 3])\n",
      "layer1.3.bias torch.Size([64])\n",
      "layer1.4.weight torch.Size([64, 16, 3, 3])\n",
      "layer1.4.bias torch.Size([64])\n",
      "fc1.weight torch.Size([256, 64])\n",
      "fc1.bias torch.Size([256])\n",
      "fc2.weight torch.Size([10, 256])\n",
      "fc2.bias torch.Size([10])\n"
     ]
    }
   ],
   "source": [
    "for name,param in net1.named_parameters():\n",
    "    print(name,param.shape)"
   ]
  },
  {
   "cell_type": "code",
   "execution_count": 33,
   "metadata": {},
   "outputs": [
    {
     "name": "stdout",
     "output_type": "stream",
     "text": [
      "layer1.conv1.weight torch.Size([16, 3, 7, 7])\n",
      "layer1.conv1.bias torch.Size([16])\n",
      "layer1.bn1.weight torch.Size([16])\n",
      "layer1.bn1.bias torch.Size([16])\n",
      "layer1.conv2.weight torch.Size([64, 16, 3, 3])\n",
      "layer1.conv2.bias torch.Size([64])\n",
      "layer1.bn2.weight torch.Size([64, 16, 3, 3])\n",
      "layer1.bn2.bias torch.Size([64])\n",
      "fc1.weight torch.Size([256, 64])\n",
      "fc1.bias torch.Size([256])\n",
      "fc2.weight torch.Size([10, 256])\n",
      "fc2.bias torch.Size([10])\n"
     ]
    }
   ],
   "source": [
    "for name,param in net2.named_parameters():\n",
    "    print(name,param.shape)"
   ]
  },
  {
   "cell_type": "code",
   "execution_count": 35,
   "metadata": {},
   "outputs": [],
   "source": [
    "## cur epoch\n",
    "max_epoch = 1000\n",
    "for epoch in range(max_epoch):\n",
    "    pass\n",
    "    #adjust learning rate or optim.lr_schedule\n",
    "    ## train\n",
    "    \"\"\"\n",
    "    out = model(in)\n",
    "    loss = loss_func(out,target)\n",
    "    optimizer.zero_grad()\n",
    "    loss.backward()\n",
    "    optimizer.step()\n",
    "    \"\"\"\n",
    "   "
   ]
  },
  {
   "cell_type": "code",
   "execution_count": null,
   "metadata": {
    "collapsed": true
   },
   "outputs": [],
   "source": []
  }
 ],
 "metadata": {
  "kernelspec": {
   "display_name": "python3.6",
   "language": "python",
   "name": "python3.6"
  },
  "language_info": {
   "codemirror_mode": {
    "name": "ipython",
    "version": 3
   },
   "file_extension": ".py",
   "mimetype": "text/x-python",
   "name": "python",
   "nbconvert_exporter": "python",
   "pygments_lexer": "ipython3",
   "version": "3.6.2"
  }
 },
 "nbformat": 4,
 "nbformat_minor": 2
}
