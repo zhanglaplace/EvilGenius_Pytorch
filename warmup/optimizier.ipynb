{
 "cells": [
  {
   "cell_type": "code",
   "execution_count": 1,
   "metadata": {
    "collapsed": true
   },
   "outputs": [],
   "source": [
    "import torch\n",
    "import torch.optim as optim\n",
    "import torch.nn as nn\n",
    "import torch.nn.functional as F"
   ]
  },
  {
   "cell_type": "code",
   "execution_count": 6,
   "metadata": {
    "collapsed": true
   },
   "outputs": [],
   "source": [
    "#build a simple network\n",
    "class SimpleNet(nn.Module):\n",
    "    def __init__(self,num_class=10):\n",
    "        super(SimpleNet,self).__init__()\n",
    "        self.num_class_ = num_class\n",
    "        self.layers1 = nn.Sequential(\n",
    "            nn.Conv2d(3,16,7),\n",
    "            nn.BatchNorm2d(16),\n",
    "            nn.ReLU(),\n",
    "            nn.MaxPool2d(2,2),\n",
    "            )\n",
    "        self.layers2 = nn.Sequential(\n",
    "            nn.Conv2d(16,64,3),\n",
    "            nn.BatchNorm2d(16),\n",
    "            nn.ReLU(),\n",
    "            nn.MaxPool2d(2,2),\n",
    "        )\n",
    "        self.fc3 = nn.Linear(64,256)\n",
    "        self.fc4 = nn.Linear(256,num_class)\n",
    "    \n",
    "    def forward(self,x):\n",
    "        out = self.layer1(x)\n",
    "        out = self.layer2(out)\n",
    "        out = self.fc3(out)\n",
    "        out = self.fc4(out)\n",
    "        return out\n",
    "        "
   ]
  },
  {
   "cell_type": "code",
   "execution_count": 10,
   "metadata": {},
   "outputs": [
    {
     "name": "stdout",
     "output_type": "stream",
     "text": [
      "layers1.0.weight torch.Size([16, 3, 7, 7])\n",
      "layers1.0.bias torch.Size([16])\n",
      "layers1.1.weight torch.Size([16])\n",
      "layers1.1.bias torch.Size([16])\n",
      "layers2.0.weight torch.Size([64, 16, 3, 3])\n",
      "layers2.0.bias torch.Size([64])\n",
      "layers2.1.weight torch.Size([16])\n",
      "layers2.1.bias torch.Size([16])\n",
      "fc3.weight torch.Size([256, 64])\n",
      "fc3.bias torch.Size([256])\n",
      "fc4.weight torch.Size([10, 256])\n",
      "fc4.bias torch.Size([10])\n"
     ]
    }
   ],
   "source": [
    "net = SimpleNet()\n",
    "for name,param in net.named_parameters():\n",
    "    print(name,param.shape)"
   ]
  },
  {
   "cell_type": "code",
   "execution_count": 13,
   "metadata": {
    "collapsed": true
   },
   "outputs": [],
   "source": [
    "## optimizer \n",
    "## only list command optim\n",
    "optimizer1 = optim.SGD(net.parameters(),lr=0.001,momentum=0.9,weight_decay=1e-5)\n",
    "optimizer2 = optim.Adam(net.parameters(),lr=0.01,betas=(0.9, 0.999), eps=1e-08, weight_decay=1e-5)\n",
    "optimizer3 = optim.RMSprop(net.parameters(),lr=0.01,alpha=0.99,eps=1e-08,weight_decay=1e-5)\n",
    "#迭代时一般做两步骤\n",
    "#1、optimizer.zero_grad()\n",
    "#2、optimizer.step()"
   ]
  },
  {
   "cell_type": "code",
   "execution_count": 14,
   "metadata": {
    "collapsed": true
   },
   "outputs": [],
   "source": [
    "## adjust learning rate\n",
    "## 两种方法调整学习率，1自己写函数、2是用optim.lr_scheduler\n",
    "#1\n",
    "base_lr = 0.1\n",
    "def adjust_learning_rate(optimizer,epoch):\n",
    "    lr = base_lr*(0.1**(epoch//200))\n",
    "    for param in optimizer.param_groups:\n",
    "        param['lr'] = lr\n",
    "        "
   ]
  },
  {
   "cell_type": "code",
   "execution_count": 16,
   "metadata": {},
   "outputs": [],
   "source": [
    "#2 lr_scheduler\n",
    "## 2.1 StepLR\n",
    "scheduler = optim.lr_scheduler.StepLR(optimizer1,step_size=200,gamma=0.1)\n",
    "for epoch in range(600):\n",
    "    scheduler.step()\n",
    "    #train(....)\n",
    "    #validate(....)\n",
    "## lr = 0.1  if epoch < 200\n",
    "## lr = 0.01 if 200 <= epoch < 400\n",
    "## lr = 0.001 if 400 <= epoch < 600\n"
   ]
  },
  {
   "cell_type": "code",
   "execution_count": 17,
   "metadata": {
    "collapsed": true
   },
   "outputs": [],
   "source": [
    "#2 lr_scheduler\n",
    "## 2.2 MultiStepLR\n",
    "millestones = [200,500,800]\n",
    "scheduler = optim.lr_scheduler.MultiStepLR(optimizer2,millestones,gamma=0.1)\n",
    "for epoch in range(1000):\n",
    "    scheduler.step()\n",
    "    #train(....)\n",
    "    #validate(....)\n",
    "## lr = 0.1  if epoch < 200\n",
    "## lr = 0.01 if 200 <= epoch <500\n",
    "## lr = 0.001 if 500 <= epoch < 800\n",
    "## lr = 0.0001 if 800 <= epoch"
   ]
  },
  {
   "cell_type": "code",
   "execution_count": 18,
   "metadata": {
    "collapsed": true
   },
   "outputs": [],
   "source": [
    "#2 lr_scheduler\n",
    "## 2.2 ExponentialLR\n",
    "scheduler = optim.lr_scheduler.ExponentialLR(optimizer3,0.95,)\n",
    "for epoch in range(1000):\n",
    "    scheduler.step()\n",
    "    #train(....)\n",
    "    #validate(....)\n",
    "## lr = lr * gamma**epoch"
   ]
  },
  {
   "cell_type": "code",
   "execution_count": 22,
   "metadata": {},
   "outputs": [],
   "source": [
    "## 通常我们finetune的时候会为不同的层次设置不同的学习率。\n",
    "# 1， 前面的层次不学习了，只更新后续更改的层次\n",
    "for param in net.parameters():\n",
    "    param.requires_grad = False\n",
    "\n",
    "net.fc4 = nn.Linear(256,100) # 10 类别变成了100  只学习该层次的参数\n",
    "optimizer4 = optim.SGD(params=[net.fc4.weight,net.fc4.bias],lr = base_lr,weight_decay=1e-5,momentum=0.9)"
   ]
  },
  {
   "cell_type": "code",
   "execution_count": 23,
   "metadata": {
    "collapsed": true
   },
   "outputs": [],
   "source": [
    "#2,前面的层次也学习，但是学习率与后续的不一致\n",
    "ignore_param = list(map(id,net.fc4.parameters()))\n",
    "base_param = filter(lambda p: id(p) not in ignore_param,net.parameters())\n",
    "optimizer5 = optim.SGD([\n",
    "    {'params':base_param},\n",
    "    {'params':net.fc4.parameters(),'lr':base_lr*10}],0.001,momentum=0.9,weight_decay=1e-4\n",
    ")"
   ]
  },
  {
   "cell_type": "code",
   "execution_count": 29,
   "metadata": {},
   "outputs": [
    {
     "name": "stdout",
     "output_type": "stream",
     "text": [
      "0.001\n",
      "0.1\n"
     ]
    }
   ],
   "source": [
    "for param in optimizer5.param_groups:\n",
    "    print(param['lr'])"
   ]
  },
  {
   "cell_type": "code",
   "execution_count": null,
   "metadata": {
    "collapsed": true
   },
   "outputs": [],
   "source": []
  }
 ],
 "metadata": {
  "kernelspec": {
   "display_name": "python3.6",
   "language": "python",
   "name": "python3.6"
  },
  "language_info": {
   "codemirror_mode": {
    "name": "ipython",
    "version": 3
   },
   "file_extension": ".py",
   "mimetype": "text/x-python",
   "name": "python",
   "nbconvert_exporter": "python",
   "pygments_lexer": "ipython3",
   "version": "3.6.2"
  }
 },
 "nbformat": 4,
 "nbformat_minor": 2
}
