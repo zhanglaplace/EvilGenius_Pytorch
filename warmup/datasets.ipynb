{
 "cells": [
  {
   "cell_type": "code",
   "execution_count": 15,
   "metadata": {
    "collapsed": true
   },
   "outputs": [],
   "source": [
    "import torch\n",
    "import torch.utils.data as Data\n",
    "import numpy as np\n",
    "import torchvision\n",
    "import torchvision.transforms as T\n",
    "from PIL import Image\n",
    "import matplotlib.pyplot as plt\n",
    "%matplotlib inline"
   ]
  },
  {
   "cell_type": "code",
   "execution_count": 16,
   "metadata": {
    "collapsed": true
   },
   "outputs": [],
   "source": [
    "class MyDatasets(Data.Dataset):\n",
    "    \"\"\"My datasets \"\"\"\n",
    "    def __init__(self,filepath,transforms = None):\n",
    "        '''\n",
    "        params filepath: input filelist \n",
    "                1.jpg 0\n",
    "                2.jpg 1\n",
    "                3.jpg 1\n",
    "        params transforms: imgs transforms \n",
    "                T.Compose([\n",
    "                    T.RandomCrop(224),\n",
    "                    T.RandomHorizontalFlip(),\n",
    "                    T.Resize(256),\n",
    "                    T.ToTensor(),\n",
    "                    T.Normalize((0,5,0.5,0.5),(0,5,0.5,0.5))\n",
    "                ])\n",
    "        '''\n",
    "        with open(filepath,'r') as f:\n",
    "            lines = f.readlines()\n",
    "        img_list = [line.strip().split()[0] for line in lines]\n",
    "        img_label = [line.strip().split()[1] for line in lines]\n",
    "        self.imgs_ = img_list\n",
    "        self.label_ = img_label\n",
    "        self.transforms_ = transforms\n",
    "        assert len(img_list) == len(img_label)\n",
    "        self.num_ = len(img_list)\n",
    "    \n",
    "    def __getitem__(self,item):\n",
    "        \"\"\"get img and label accroding item\"\"\"\n",
    "        img = self.imgs_[item]\n",
    "        label = self.label_[item]\n",
    "        im = Image.open(img).convert('RGB')\n",
    "        if self.transforms_ is not None:\n",
    "            im = self.transforms_(im)   # 在这里做transform，转为tensor等等\n",
    "        return im, label\n",
    "        \n",
    "    def __len__(self):\n",
    "        \"\"\"return imageset num\"\"\"\n",
    "        return self.num_\n",
    "        "
   ]
  },
  {
   "cell_type": "code",
   "execution_count": 17,
   "metadata": {},
   "outputs": [
    {
     "name": "stdout",
     "output_type": "stream",
     "text": [
      "datasets/\r\n",
      "├── test\r\n",
      "│   ├── 0\r\n",
      "│   │   ├── 0.jpg\r\n",
      "│   │   └── 1.jpg\r\n",
      "│   └── 1\r\n",
      "│       ├── 0.jpg\r\n",
      "│       └── 1.jpg\r\n",
      "├── test.list\r\n",
      "├── train\r\n",
      "│   ├── 0\r\n",
      "│   │   ├── 0.jpg\r\n",
      "│   │   └── 1.jpg\r\n",
      "│   └── 1\r\n",
      "│       ├── 0.jpg\r\n",
      "│       └── 1.jpg\r\n",
      "├── train.list\r\n",
      "├── valid\r\n",
      "│   ├── 0\r\n",
      "│   │   ├── 0.jpg\r\n",
      "│   │   └── 1.jpg\r\n",
      "│   └── 1\r\n",
      "│       ├── 0.jpg\r\n",
      "│       └── 1.jpg\r\n",
      "└── valid.list\r\n",
      "\r\n",
      "9 directories, 15 files\r\n"
     ]
    }
   ],
   "source": [
    "import torch.utils.data as Data\n",
    "! tree datasets/"
   ]
  },
  {
   "cell_type": "code",
   "execution_count": 18,
   "metadata": {
    "collapsed": true
   },
   "outputs": [],
   "source": [
    "train_normalized =  T.Compose([\n",
    "                    T.RandomCrop(224),\n",
    "                    T.RandomHorizontalFlip(),\n",
    "                    T.Resize(256),\n",
    "                    T.ToTensor(),\n",
    "                    T.Normalize((0,5,0.5,0.5),(0,5,0.5,0.5))\n",
    "                ])\n",
    "test_normalized =  T.Compose([\n",
    "                    T.CenterCrop(224),\n",
    "                    T.Resize(256),\n",
    "                    T.ToTensor(),\n",
    "                    T.Normalize((0,5,0.5,0.5),(0,5,0.5,0.5))\n",
    "                ])\n",
    "train_dataset = MyDatasets('./datasets/train.list',train_normalized)\n",
    "valid_dataset = MyDatasets('./datasets/valid.list',train_normalized)\n",
    "test_dataset = MyDatasets('./datasets/test.list',test_normalized)"
   ]
  },
  {
   "cell_type": "code",
   "execution_count": 19,
   "metadata": {
    "collapsed": true
   },
   "outputs": [],
   "source": [
    "train_loader = Data.DataLoader(train_dataset,batch_size=4096,shuffle=True,num_workers=2)\n",
    "valid_loader = Data.DataLoader(valid_dataset,batch_size=1,shuffle=False,num_workers=1)\n",
    "test_loader = Data.DataLoader(test_dataset,batch_size=1,shuffle=False,num_workers=1)"
   ]
  },
  {
   "cell_type": "code",
   "execution_count": 20,
   "metadata": {
    "collapsed": true
   },
   "outputs": [],
   "source": [
    "#其他关于样本扩增的操作，可以放在init中进行。或者在准备样本的时候进行扩增。"
   ]
  },
  {
   "cell_type": "code",
   "execution_count": 22,
   "metadata": {
    "collapsed": true
   },
   "outputs": [],
   "source": [
    "### cal mean and std\n",
    "train_txt_path = './datasets/train.list'\n",
    "def cal_meanStd(train_txt_path):\n",
    "    CNum = 2000     # 挑选多少图片进行计算\n",
    "    img_h, img_w = 32, 32\n",
    "    imgs = np.zeros([img_w, img_h, 3, 1])\n",
    "    means, stdevs = [], []\n",
    "\n",
    "    with open(train_txt_path, 'r') as f:\n",
    "        lines = f.readlines()\n",
    "        random.shuffle(lines)   # shuffle , 随机挑选图片\n",
    "        for i in range(CNum):\n",
    "            img_path = lines[i].rstrip().split()[0]\n",
    "            img = cv2.imread(img_path)\n",
    "            img = cv2.resize(img, (img_h, img_w))\n",
    "            img = img[:, :, :, np.newaxis]\n",
    "            imgs = np.concatenate((imgs, img), axis=3)\n",
    "            print(i)\n",
    "    imgs = imgs.astype(np.float32)/255.\n",
    "    for i in range(3):\n",
    "        pixels = imgs[:,:,i,:].ravel()  # 拉成一行\n",
    "        means.append(np.mean(pixels))\n",
    "        stdevs.append(np.std(pixels))\n",
    "    means.reverse() # BGR --> RGB\n",
    "    stdevs.reverse()\n",
    "    print(\"normMean = {}\".format(means))\n",
    "    print(\"normStd = {}\".format(stdevs))\n",
    "    print('transforms.Normalize(normMean = {}, normStd = {})'.format(means, stdevs))\n"
   ]
  },
  {
   "cell_type": "code",
   "execution_count": null,
   "metadata": {
    "collapsed": true
   },
   "outputs": [],
   "source": []
  }
 ],
 "metadata": {
  "kernelspec": {
   "display_name": "python3.6",
   "language": "python",
   "name": "python3.6"
  },
  "language_info": {
   "codemirror_mode": {
    "name": "ipython",
    "version": 3
   },
   "file_extension": ".py",
   "mimetype": "text/x-python",
   "name": "python",
   "nbconvert_exporter": "python",
   "pygments_lexer": "ipython3",
   "version": "3.6.2"
  }
 },
 "nbformat": 4,
 "nbformat_minor": 2
}
